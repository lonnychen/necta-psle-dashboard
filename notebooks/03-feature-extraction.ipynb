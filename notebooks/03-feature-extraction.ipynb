{
 "cells": [
  {
   "cell_type": "markdown",
   "id": "1cdb3791",
   "metadata": {},
   "source": [
    "# NECTA PSLE Dashboard\n",
    "\n",
    "## 03-feature-extraction\n",
    "### Tasks\n",
    "NOTE: Features currently fixed/extracted for (16361/17900) **government schools only** (except context)\n",
    "1. Manual fixes to latitude and longitude (Google Maps, mWater), \"fe1\" Query population data (mWater)\n",
    "2. \"fe2\" Extract distance to closest other school\n",
    "3. \"fe3\" Extract distance to council headquarters\n",
    "4. \"fe4\" Extract categorical variables (urban/rural context, PSLE results quantiles)\n",
    "\n",
    "#### Inputs:\n",
    "- 02-tamisemi-merge.csv (17900, 35)\n",
    "- 03-mwater_latlon_fixes_population.csv (16339, 3)\n",
    "- 03-mwater_council_hq_coords.csv (184, 2)\n",
    "\n",
    "#### Outputs:\n",
    "- 03-feature-extraction.csv (17900, 44)"
   ]
  },
  {
   "cell_type": "code",
   "execution_count": null,
   "id": "082954a3",
   "metadata": {},
   "outputs": [],
   "source": [
    "#Data handling\n",
    "import numpy as np\n",
    "import pandas as pd\n",
    "\n",
    "#Custom modules\n",
    "from config import *\n",
    "from data_cleaning import count_duplicates, set_index, is_diff_nans_equal, drop_columns, fillna_not_fixed\n",
    "from data_cleaning_special import parse_mwater_gps_to_latlon\n",
    "from feature_extraction import calc_d_km, find_closest_d_km, extract_context"
   ]
  },
  {
   "cell_type": "markdown",
   "id": "ef49c895",
   "metadata": {},
   "source": [
    "### 1. Manual fixes to latitude and longitude, \"fe1\" Query population data\n",
    "*Fix schools' latitude and longitude coordinates from public map comparisons vs. region boundaries and other errors (in-water, in-game-reserve), then use fixed coordinates to query Meta population data in mWater.*\n",
    "\n",
    "**Technical Background:**\n",
    "- Population data from Meta's [High Resolution Population Density Maps](https://dataforgood.facebook.com/dfg/tools/high-resolution-population-density-maps)\n",
    "- [mWater](https://portal.mwater.co/#/) provides population data [query calculation](https://portal.mwater.co/#/resource_center/population_queries): from **GPS coordinates**, within **x metres**\n",
    "\n",
    "**Steps:**\n",
    "1. Read in output from mWater which includes:\n",
    "    - **MANUAL DATA CLEANING:** coordinate fixing in mWater Portal Sites\n",
    "    - \"fe1\" population data query within three kilometres (3km)\n",
    "2. Combine manual data with main dataset, and flag `'LATLON is_fixed'`\n",
    "\n",
    "**Observations:**\n",
    "- **531 manual corrections** of coordinates (June 2023) > +decimal place changes (Aug 2023)\n",
    "    - Often number transcription error (wrong or missing)\n",
    "    - Google Maps not always correct vs. WARD\n",
    "\n",
    "**Learnings:** (🧑🏻‍💻📚😎⚠️)\n",
    "- 😎 Really benefitting from **Pandas indexing** for: `pd.concat` and `fillna` (from another column) based on NECTA ID"
   ]
  },
  {
   "cell_type": "code",
   "execution_count": null,
   "id": "a66562e0",
   "metadata": {},
   "outputs": [],
   "source": [
    "#Main code\n",
    "#1. Read in mWater output\n",
    "df_mw = pd.read_csv(fe1_mwater_path)\n",
    "df_mw.shape #(16340, 4)"
   ]
  },
  {
   "cell_type": "code",
   "execution_count": null,
   "id": "6be3dbbf",
   "metadata": {},
   "outputs": [],
   "source": [
    "#Light Data cleaning\n",
    "#(ii) Parse 'GPS Location' for \"fix\" latitude, longitude\n",
    "df_mw = parse_mwater_gps_to_latlon(df_mw, lat_col_fix, lon_col_fix)\n",
    "\n",
    "#(ii) Rename new Xd to 'pop_3km'\n",
    "df_mw = df_mw.rename(columns={'Population within 3000 meters of GPS Location': 'pop_3km'})\n",
    "\n",
    "#(iii) Check duplicates\n",
    "count_duplicates(df_mw, 'Description') #returns 0\n",
    "\n",
    "#Set index to NECTA ID for pd.concat, equalize index name so not lost during concat\n",
    "df_mw = set_index(df_mw, 'Description')\n",
    "df_mw.index.name = 'school_id'"
   ]
  },
  {
   "cell_type": "code",
   "execution_count": null,
   "id": "fdd8d78d",
   "metadata": {},
   "outputs": [],
   "source": [
    "#2. Combine data\n",
    "#Read in ts-merged data\n",
    "dfe = pd.read_csv(necta_ts_merged_path, index_col='school_id')\n",
    "\n",
    "#CONCATENATE column-wise\n",
    "dfe1 = pd.concat([dfe, df_mw[fe1_mwater_cols_concat]], axis=1)\n",
    "dfe1.shape\n",
    "\n",
    "#Fill NonGov/NA with original coordinates\n",
    "dfe1 = fillna_not_fixed(dfe1, [lat_col, lon_col])\n",
    "\n",
    "#Flag fixed cases\n",
    "dfe1 = is_diff_nans_equal(dfe1, lat_col, lat_col_fix, lat_col_is_fixed)\n",
    "dfe1 = is_diff_nans_equal(dfe1, lon_col, lon_col_fix, lon_col_is_fixed)\n",
    "dfe1['LATLON is_fixed'] = dfe1[lat_col_is_fixed] | dfe1[lon_col_is_fixed]\n",
    "dfe1['LATLON is_fixed'].value_counts() #True 693\n",
    "\n",
    "#Light data cleaning\n",
    "#(v) Drop unneeded columns\n",
    "dfe1 = drop_columns(dfe1, ['Name', lat_col_is_fixed, lon_col_is_fixed])\n",
    "\n",
    "#Save fe1\n",
    "#dfe1.to_csv(fe1_csv_path)\n",
    "\n",
    "#Check\n",
    "dfe1.shape #(17900, 39)"
   ]
  },
  {
   "cell_type": "markdown",
   "id": "cc1cffc2",
   "metadata": {},
   "source": [
    "### 2. \"fe2\" Extract distance to closest other school\n",
    "*Calculate distance in kilometres to closet other school as a measure or remoteness.*\n",
    "\n",
    "**Steps:**\n",
    "1. Calculate distance in closest other (government) school in dataset\n",
    "\n",
    "**Learnings:** (🧑🏻‍💻📚😎⚠️)\n",
    "- 🧑🏻‍💻 Tricky to compare one element against all other elements but exhaustive Series (rows of DataFrame) vs. Series (perpendicularly) worked!\n",
    "    - ⚠️ But O\\*\\*2 complexity: for n=16,361 => 4-5min is OK"
   ]
  },
  {
   "cell_type": "code",
   "execution_count": null,
   "id": "c14aba71",
   "metadata": {},
   "outputs": [],
   "source": [
    "%%time\n",
    "#Wall time: 4min 32s\n",
    "#1. Calculate nearest school distance for each school\n",
    "#Government schools only\n",
    "dfe2 = dfe1.copy()\n",
    "dfe2g = dfe1[dfe1['SCHOOL OWNERSHIP'] == 'Government'] #Gov = 16361\n",
    "\n",
    "#Setup coordinates data structures\n",
    "s_coord = dfe2g.apply(lambda p: (p[lat_col_fix], p[lon_col_fix]), axis=1)\n",
    "df_coord = s_coord.to_frame('lat_lon_tuple')\n",
    "\n",
    "#Series itself is an argument per-row of same DataFrame/Series\n",
    "s_closest = df_coord.apply(find_closest_d_km, col='lat_lon_tuple', s_p=s_coord, axis=1)"
   ]
  },
  {
   "cell_type": "code",
   "execution_count": null,
   "id": "44d61e44",
   "metadata": {},
   "outputs": [],
   "source": [
    "#Save result back to main dataset\n",
    "dfe2['d_closest'] = s_closest.apply(lambda x: x[1])\n",
    "#dfe2['check_closest_id'] = s_closest.apply(lambda x: x[0]) #index to closest school\n",
    "\n",
    "#Save fe2\n",
    "#dfe2.to_csv(fe2_csv_path)\n",
    "\n",
    "#Check\n",
    "dfe2.shape #(17900, 40)"
   ]
  },
  {
   "cell_type": "markdown",
   "id": "b6d434f1",
   "metadata": {},
   "source": [
    "### 3. \"fe3\" Extract distance to council headquarters\n",
    "*Calculate distance in kilometres to council headquarters as a measure or remoteness.*\n",
    "\n",
    "**Steps:**\n",
    "1. Read in **MANUAL DATA COLLECTION** list of council HQ coordinates from Google Maps, mWater\n",
    "2. Combine council HQ coordinates with main dataset\n",
    "3. Calculate distance of each school to its council HQ, light data clean, save to CSV\n",
    "\n",
    "**Observations:**\n",
    "- Tried to webscrape coordinates from TAMISEMI's region > council websites but challenges:\n",
    "    - Coordinates were not direclty accessible in 63/184 cases\n",
    "    - Regular and irregular council name differences between dataset and websites"
   ]
  },
  {
   "cell_type": "code",
   "execution_count": null,
   "id": "31f1f9ae",
   "metadata": {},
   "outputs": [],
   "source": [
    "#Main code\n",
    "#1. Read in mWater output\n",
    "df_mw_hq = pd.read_csv(fe3_mwater_path)\n",
    "df_mw_hq.shape #(184, 2)"
   ]
  },
  {
   "cell_type": "code",
   "execution_count": null,
   "id": "11a5cbd6",
   "metadata": {},
   "outputs": [],
   "source": [
    "#2. Combine with main dataset\n",
    "\n",
    "#Light Data cleaning\n",
    "#(ii) Parse 'GPS Location' for \"fixed\" latitude, longitude\n",
    "df_mw_hq = parse_mwater_gps_to_latlon(df_mw_hq, 'latitude_hq', 'longitude_hq')\n",
    "\n",
    "#(iii) Check duplicates\n",
    "count_duplicates(df_mw_hq, 'Name') #returns 0\n",
    "\n",
    "#Set index to council name to match main dataset\n",
    "df_mw_hq = set_index(df_mw_hq, 'Name')\n",
    "df_mw_hq.index.name = 'council_name'\n",
    "\n",
    "#Create per-school columns with per-council values\n",
    "dfe3 = dfe2.copy()\n",
    "dfe3['council_hq_lat'] = dfe3[dfe3['SCHOOL OWNERSHIP'] == 'Government'].apply(lambda x: df_mw_hq.at[x['council_name'], 'latitude_hq'], axis=1)\n",
    "dfe3['council_hq_lon'] = dfe3[dfe3['SCHOOL OWNERSHIP'] == 'Government'].apply(lambda x: df_mw_hq.at[x['council_name'], 'longitude_hq'], axis=1)"
   ]
  },
  {
   "cell_type": "code",
   "execution_count": null,
   "id": "1f91c066",
   "metadata": {},
   "outputs": [],
   "source": [
    "#3. Calculate distance to council HQ\n",
    "dfe3['d_council_hq'] = dfe3[dfe3['SCHOOL OWNERSHIP'] == 'Government'].apply(lambda x: calc_d_km((x[lat_col_fix], x[lon_col_fix]), (x['council_hq_lat'], x['council_hq_lon'])), axis=1)\n",
    "\n",
    "#(v) Drop unneeded columns\n",
    "dfe3 = drop_columns(dfe3, ['council_hq_lat', 'council_hq_lon'])\n",
    "\n",
    "#Save fe3\n",
    "#dfe3.to_csv(fe3_csv_path)\n",
    "\n",
    "#Check\n",
    "dfe3.shape #(17900, 41)"
   ]
  },
  {
   "cell_type": "markdown",
   "id": "87c52371",
   "metadata": {},
   "source": [
    "### 4. \"fe4\" Extract categorical variables\n",
    "*Extract categorical features and results (potential ML class labels) for analysis*\n",
    "\n",
    "**Steps:**\n",
    "1. Extract: `'context'` from `'council_name'` between urban (TC, MC, CC) and rural (all others)\n",
    "2. Extract results categorizations by PSLE quantiles (y-cat)\n",
    "\n",
    "**Learnings:** (🧑🏻‍💻📚😎⚠️)\n",
    "- 🧑🏻‍💻 Pandas `qcut` is the star method here! "
   ]
  },
  {
   "cell_type": "code",
   "execution_count": null,
   "id": "18c2f328",
   "metadata": {},
   "outputs": [],
   "source": [
    "#1. Extract context\n",
    "dfe4 = dfe3.copy()\n",
    "dfe4['context'] = dfe4['council_name'].apply(extract_context)\n",
    "dfe4['context'].value_counts()"
   ]
  },
  {
   "cell_type": "code",
   "execution_count": null,
   "id": "ecffdf7a",
   "metadata": {},
   "outputs": [],
   "source": [
    "#2. Extract y-cat (Gov-only)\n",
    "\n",
    "#Separate Gov\n",
    "dfe4g = dfe4[dfe4['SCHOOL OWNERSHIP'] == 'Government']\n",
    "\n",
    "#Prepare labels\n",
    "labels_2tile = ['lower', 'upper']\n",
    "labels_5tile = ['lowest','second', 'middle', 'fourth', 'highest']\n",
    "\n",
    "#All government schools\n",
    "dfe4['average_2tile'] = pd.qcut(dfe4g['average_300'], 2, labels=labels_2tile)\n",
    "dfe4['average_5tile'] = pd.qcut(dfe4g['average_300'], 5, labels=labels_5tile)\n",
    "\n",
    "#Check distribution of values\n",
    "#MANUAL CHECK: Excel Data-Filter=Gov > Data-Sort=average_300 > check average_*_tile\n",
    "dfe4['average_2tile'].value_counts() #even ~16361/2\n",
    "dfe4['average_5tile'].value_counts() #even ~16361/5\n",
    "\n",
    "#Save fe4\n",
    "#dfe4.to_csv(fe_csv_path)\n",
    "\n",
    "#Check\n",
    "dfe4.shape #(17900, 44)"
   ]
  },
  {
   "cell_type": "code",
   "execution_count": null,
   "id": "7af06c8f",
   "metadata": {},
   "outputs": [],
   "source": []
  }
 ],
 "metadata": {
  "kernelspec": {
   "display_name": "Python 3 (ipykernel)",
   "language": "python",
   "name": "python3"
  },
  "language_info": {
   "codemirror_mode": {
    "name": "ipython",
    "version": 3
   },
   "file_extension": ".py",
   "mimetype": "text/x-python",
   "name": "python",
   "nbconvert_exporter": "python",
   "pygments_lexer": "ipython3",
   "version": "3.9.13"
  }
 },
 "nbformat": 4,
 "nbformat_minor": 5
}
