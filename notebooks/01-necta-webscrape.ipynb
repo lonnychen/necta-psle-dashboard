{
 "cells": [
  {
   "cell_type": "markdown",
   "id": "df23e646",
   "metadata": {},
   "source": [
    "# NECTA PSLE Dashboard\n",
    "\n",
    "## 01-necta-webscrape\n",
    "### Tasks\n",
    "1. Beautiful Soup webscrape of NECTA PSLE data\n",
    "2. Light data cleaning of webscraped data\n",
    "3. Light feature extraction of webscraped data\n",
    "\n",
    "#### Inputs:\n",
    "- [PSLE results](https://onlinesys.necta.go.tz/results/2022/psle/psle.htm), example: [Jitegmee](https://onlinesys.necta.go.tz/results/2022/psle/results/shl_ps1104063.htm)\n",
    "\n",
    "#### Outputs:\n",
    "- 01-necta-webscrape_raw.csv (17935, 11)\n",
    "- 01-necta-webscrape_features.csv (17900, 16)"
   ]
  },
  {
   "cell_type": "code",
   "execution_count": null,
   "id": "fa5cc2b3",
   "metadata": {},
   "outputs": [],
   "source": [
    "#Libraries\n",
    "#Data handling\n",
    "import numpy as np\n",
    "import pandas as pd\n",
    "\n",
    "#Custom modules\n",
    "from config import base_URL, top_URL, necta_raw_csv_path, necta_missing_csv_path, necta_features_csv_path\n",
    "from webscraping import nation_scrape\n",
    "from data_cleaning import convert_dtypes, count_duplicates, count_missing_rows, write_missing_rows, drop_missing_rows, drop_columns\n",
    "from data_cleaning import convert_string_to_list, compare_list_total\n",
    "from data_cleaning_special import capitalize_salaam, compare_grade\n",
    "from feature_extraction import from_list_extract_total_multiple, extract_rate_multiple"
   ]
  },
  {
   "cell_type": "markdown",
   "id": "297d15fa",
   "metadata": {},
   "source": [
    "### 1. Beautiful Soup webscrape of NECTA data\n",
    "*Webscrape primary school examination results from each school's web page*\n",
    "\n",
    "**Steps:**\n",
    "1. Hierarchically scrape through four levels of links: nation, regions, councils, schools (actual data)\n",
    "2. Turn resulting \"list of dicts\" into a Pandas DataFrame, and save to CSV\n",
    "\n",
    "**Observations:**\n",
    "- **17,935** school pages scraped (Wall time **~8.5 hours**)\n",
    "- Corner cases solved in regex: 'SEMINARY' in school name (3), typo ';' before NECTA PS# (1) \n",
    "\n",
    "**Learnings:** (🧑🏻‍💻📚😎⚠️)\n",
    "- ⚠️ Numerous requests (HTTP GET) to same server caused **\"Max retries exceeded with url\"**\n",
    "    - 🧑🏻‍💻 **SOLUTION: \"Session\" timeout and retries**"
   ]
  },
  {
   "cell_type": "code",
   "execution_count": null,
   "id": "d9f82252",
   "metadata": {},
   "outputs": [],
   "source": [
    "%%time\n",
    "#Wall time: 8h 23min 57s (real-world)\n",
    "#Main code\n",
    "URL = base_URL + top_URL\n",
    "data = nation_scrape(URL)\n",
    "df_necta = pd.DataFrame.from_records(data)"
   ]
  },
  {
   "cell_type": "code",
   "execution_count": null,
   "id": "f9f949c5",
   "metadata": {},
   "outputs": [],
   "source": [
    "#Check shape and save to CSV\n",
    "df_necta.shape\n",
    "#df_necta.to_csv(necta_raw_csv_path)"
   ]
  },
  {
   "cell_type": "markdown",
   "id": "b656f3a1",
   "metadata": {},
   "source": [
    "### 2. Light data cleaning of webscraped data\n",
    "*Check school examination data for obvious issues*\n",
    "\n",
    "**Steps:**\n",
    "1. Light data cleaning steps: (i) data types, (ii) values, (iii) duplicates, (iv) missing\n",
    "2. Data integrity checks of totals and grades\n",
    "\n",
    "**Observations:**\n",
    "- **DROP 35 schools** with missing school-level results data, save \"missing\" to CSV\n",
    "\n",
    "**Learnings:** (🧑🏻‍💻📚😎⚠️)\n",
    "- ⚠️ Avoid storing lists in one CSV column as they do not persist when writing out to CSV (read back in as string)\n",
    "    - 😎 `ast.literal_eval` saved me!"
   ]
  },
  {
   "cell_type": "code",
   "execution_count": null,
   "id": "db2d607e",
   "metadata": {},
   "outputs": [],
   "source": [
    "#Read from CSV\n",
    "df_n = pd.read_csv(necta_raw_csv_path, index_col=0)\n",
    "\n",
    "#(i) Convert to dtypes that support pd.NA (num_sitters int with NA)\n",
    "df_n = convert_dtypes(df_n)\n",
    "\n",
    "#(ii) Convert data values from CSV read\n",
    "df_n = convert_string_to_list(df_n, ['WASICHANA', 'WAVULANA', 'JUMLA'])\n",
    "\n",
    "#(ii) String matching issue found during 02-tamisemi-merge\n",
    "df_n = capitalize_salaam(df_n)\n",
    "\n",
    "#(iii) Count duplicated for expected \"unique\" columns\n",
    "count_duplicates(df_n, 'school_id') #returns 0\n",
    "count_duplicates(df_n, 'results_url') #returns 0\n",
    "\n",
    "#(iv) Check rows missing data, write to CSV, then drop from DF\n",
    "count_missing_rows(df_n) #returns 35\n",
    "#write_missing_rows(df_n, necta_missing_csv_path)\n",
    "df_n = drop_missing_rows(df_n)\n",
    "\n",
    "#Assert if mismatching\n",
    "compare_list_total(df_n, 'JUMLA', 'num_sitters')\n",
    "compare_grade(df_n, 'grade', 'average_300')\n",
    "\n",
    "df_n.shape #(17900, 11)"
   ]
  },
  {
   "cell_type": "markdown",
   "id": "898d8147",
   "metadata": {},
   "source": [
    "### 3. Light feature extraction from NECTA data\n",
    "*Extract interesting features from NECTA raw data*\n",
    "\n",
    "**Steps:**\n",
    "1. Extract total sitters and passing from lists (all, by gender), and passing percentages (A-C)\n",
    "2. Light data cleaning on newly extracted features\n",
    "3. Drop unneeded raw columns, then save to CSV\n",
    "\n",
    "**Observations:**\n",
    "- Corner cases, keep and note: **28 single-gender schools** have `pct_passed_*` = 0/0 = NaN"
   ]
  },
  {
   "cell_type": "code",
   "execution_count": null,
   "id": "62422ebf",
   "metadata": {},
   "outputs": [],
   "source": [
    "#Extract totals from lists: all sitters (A-E) and passing (A-C) students by gender\n",
    "source_dest_pairs = [('WASICHANA', 'num_sitters_girls'), ('WAVULANA', 'num_sitters_boys')]\n",
    "df_n = from_list_extract_total_multiple(df_n, source_dest_pairs, 0, 5)\n",
    "source_dest_pairs = [('JUMLA', 'num_passed'), ('WASICHANA', 'num_passed_girls'), ('WAVULANA', 'num_passed_boys')]\n",
    "df_n = from_list_extract_total_multiple(df_n, source_dest_pairs, 0, 3)\n",
    "\n",
    "#Extract passing percentages (A-C)\n",
    "rate_tuples = [('num_passed', 'num_sitters', 'pct_passed'),\n",
    "               ('num_passed_girls', 'num_sitters_girls', 'pct_passed_girls'),\n",
    "               ('num_passed_boys', 'num_sitters_boys', 'pct_passed_boys')]\n",
    "df_n = extract_rate_multiple(df_n, rate_tuples)\n",
    "\n",
    "#(iv) Check missing data\n",
    "count_missing_rows(df_n) #returns 28: single-gender schools so pct_passed_* = 0/0 = NaN\n",
    "\n",
    "#(v) Drop unneeded columns, save to CSV\n",
    "df_n = drop_columns(df_n, ['WASICHANA', 'WAVULANA', 'JUMLA'])\n",
    "#df_n.to_csv(necta_features_csv_path)\n",
    "\n",
    "#Check\n",
    "df_n.shape #(17900, 16)"
   ]
  },
  {
   "cell_type": "code",
   "execution_count": null,
   "id": "296dbdfd",
   "metadata": {},
   "outputs": [],
   "source": []
  }
 ],
 "metadata": {
  "kernelspec": {
   "display_name": "Python 3 (ipykernel)",
   "language": "python",
   "name": "python3"
  },
  "language_info": {
   "codemirror_mode": {
    "name": "ipython",
    "version": 3
   },
   "file_extension": ".py",
   "mimetype": "text/x-python",
   "name": "python",
   "nbconvert_exporter": "python",
   "pygments_lexer": "ipython3",
   "version": "3.9.13"
  }
 },
 "nbformat": 4,
 "nbformat_minor": 5
}
